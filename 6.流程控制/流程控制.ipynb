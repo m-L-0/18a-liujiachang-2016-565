{
 "cells": [
  {
   "cell_type": "code",
   "execution_count": 1,
   "metadata": {},
   "outputs": [
    {
     "name": "stderr",
     "output_type": "stream",
     "text": [
      "D:\\anaconda\\lib\\site-packages\\h5py\\__init__.py:36: FutureWarning: Conversion of the second argument of issubdtype from `float` to `np.floating` is deprecated. In future, it will be treated as `np.float64 == np.dtype(float).type`.\n",
      "  from ._conv import register_converters as _register_converters\n"
     ]
    }
   ],
   "source": [
    "import tensorflow as tf"
   ]
  },
  {
   "cell_type": "code",
   "execution_count": 2,
   "metadata": {},
   "outputs": [
    {
     "name": "stdout",
     "output_type": "stream",
     "text": [
      "2\n"
     ]
    }
   ],
   "source": [
    "def my_maximum(x,y):\n",
    "            case_greater = (x>y,lambda:x)\n",
    "            case_less = (x<y,lambda:y)\n",
    "            case_equal = (tf.equal(x,y),lambda:x)\n",
    "            return tf.case([case_greater,case_less,case_equal])\n",
    "with tf.Session() as sess:\n",
    "    x = tf.constant(1)\n",
    "    y = tf.constant(2)\n",
    "    result = my_maximum(x,y)\n",
    "    print(sess.run(result))"
   ]
  },
  {
   "cell_type": "code",
   "execution_count": 3,
   "metadata": {},
   "outputs": [
    {
     "name": "stdout",
     "output_type": "stream",
     "text": [
      "2\n",
      "1\n"
     ]
    }
   ],
   "source": [
    "c=tf.maximum(1,2)\n",
    "d=tf.minimum(1,2)\n",
    "with tf.Session() as sess:\n",
    "    print(sess.run(c))\n",
    "    print(sess.run(d))"
   ]
  },
  {
   "cell_type": "code",
   "execution_count": 4,
   "metadata": {},
   "outputs": [
    {
     "name": "stdout",
     "output_type": "stream",
     "text": [
      "[[1.2 3.4]\n",
      " [1.2 3.4]\n",
      " [1.2 3.4]\n",
      " [1.2 3.4]\n",
      " [1.2 3.4]]\n"
     ]
    }
   ],
   "source": [
    "def cond(idx,opt):\n",
    "    return tf.less(idx,5)\n",
    "def body(idx,opt):\n",
    "    opt=opt.write(idx,[1.2,3.4])\n",
    "    idx+=1\n",
    "    return idx,opt\n",
    "\n",
    "opt=tf.TensorArray(dtype=tf.float32,size=1,dynamic_size=True)\n",
    "idx=tf.constant(0)\n",
    "t,res=tf.while_loop(cond,body,[idx,opt])\n",
    "with tf.Session() as sess:\n",
    "    print(sess.run(res.stack()))"
   ]
  },
  {
   "cell_type": "code",
   "execution_count": null,
   "metadata": {},
   "outputs": [],
   "source": []
  }
 ],
 "metadata": {
  "kernelspec": {
   "display_name": "Python 3",
   "language": "python",
   "name": "python3"
  },
  "language_info": {
   "codemirror_mode": {
    "name": "ipython",
    "version": 3
   },
   "file_extension": ".py",
   "mimetype": "text/x-python",
   "name": "python",
   "nbconvert_exporter": "python",
   "pygments_lexer": "ipython3",
   "version": "3.6.5"
  }
 },
 "nbformat": 4,
 "nbformat_minor": 2
}
