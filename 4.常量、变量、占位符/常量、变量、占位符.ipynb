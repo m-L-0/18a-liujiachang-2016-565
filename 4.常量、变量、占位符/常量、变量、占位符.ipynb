{
 "cells": [
  {
   "cell_type": "code",
   "execution_count": 2,
   "metadata": {},
   "outputs": [],
   "source": [
    "#1. 构建二元线性回归模型，其中模型中的参数使用`tf.Variable()`构建，\n",
    "#模型的样本输入使用`tf.placeholder`代替。写出模型结构。\n",
    "#2. 使用`tf.placeholder`代替上述样本中的标记，写出对于一个样本的代价。"
   ]
  },
  {
   "cell_type": "code",
   "execution_count": 3,
   "metadata": {},
   "outputs": [
    {
     "name": "stderr",
     "output_type": "stream",
     "text": [
      "D:\\anaconda\\lib\\site-packages\\h5py\\__init__.py:36: FutureWarning: Conversion of the second argument of issubdtype from `float` to `np.floating` is deprecated. In future, it will be treated as `np.float64 == np.dtype(float).type`.\n",
      "  from ._conv import register_converters as _register_converters\n"
     ]
    }
   ],
   "source": [
    "import tensorflow as tf"
   ]
  },
  {
   "cell_type": "code",
   "execution_count": 4,
   "metadata": {},
   "outputs": [],
   "source": [
    "#创建\n",
    "with tf.Graph().as_default() as g2:\n",
    "    w1=tf.Variable(2.5)\n",
    "    w2=tf.Variable(3.6)\n",
    "    a=tf.Variable(1.0)\n",
    "    x=tf.placeholder(dtype=tf.float32,shape=[])\n",
    "    y=tf.placeholder(dtype=tf.float32,shape=[])\n",
    "    z=tf.add(tf.add(tf.multiply(w1,x),tf.multiply(w2,y)),a)"
   ]
  },
  {
   "cell_type": "code",
   "execution_count": 5,
   "metadata": {},
   "outputs": [
    {
     "name": "stdout",
     "output_type": "stream",
     "text": [
      "24.869999\n"
     ]
    }
   ],
   "source": [
    "#输出其中一个代价\n",
    "with tf.Session(graph= g2) as sess2:\n",
    "    sess2.run(tf.global_variables_initializer())\n",
    "    print(sess2.run(z,feed_dict={x:3.5,y:4.2}))"
   ]
  },
  {
   "cell_type": "code",
   "execution_count": null,
   "metadata": {},
   "outputs": [],
   "source": []
  }
 ],
 "metadata": {
  "kernelspec": {
   "display_name": "Python 3",
   "language": "python",
   "name": "python3"
  },
  "language_info": {
   "codemirror_mode": {
    "name": "ipython",
    "version": 3
   },
   "file_extension": ".py",
   "mimetype": "text/x-python",
   "name": "python",
   "nbconvert_exporter": "python",
   "pygments_lexer": "ipython3",
   "version": "3.6.5"
  }
 },
 "nbformat": 4,
 "nbformat_minor": 2
}
