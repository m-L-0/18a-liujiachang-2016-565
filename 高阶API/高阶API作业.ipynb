{
 "cells": [
  {
   "cell_type": "code",
   "execution_count": 2,
   "metadata": {},
   "outputs": [],
   "source": [
    "import numpy as np\n",
    "import tensorflow as tf\n",
    "from tensorflow.examples.tutorials.mnist import input_data"
   ]
  },
  {
   "cell_type": "code",
   "execution_count": 4,
   "metadata": {},
   "outputs": [
    {
     "name": "stdout",
     "output_type": "stream",
     "text": [
      "Extracting MNIST_data\\train-images-idx3-ubyte.gz\n",
      "Extracting MNIST_data\\train-labels-idx1-ubyte.gz\n",
      "Extracting MNIST_data\\t10k-images-idx3-ubyte.gz\n",
      "Extracting MNIST_data\\t10k-labels-idx1-ubyte.gz\n"
     ]
    }
   ],
   "source": [
    "mnist = input_data.read_data_sets(\"MNIST_data\",one_hot=True)"
   ]
  },
  {
   "cell_type": "code",
   "execution_count": 9,
   "metadata": {
    "scrolled": true
   },
   "outputs": [],
   "source": [
    "with tf.Graph().as_default() as g:\n",
    "    #占位符\n",
    "    inputs = tf.placeholder(shape = [None,784],dtype = tf.float32)\n",
    "    labels = tf.placeholder(shape = [None,10],dtype = tf.float32)\n",
    "    \n",
    "    #创建隐藏层神经元\n",
    "    #权重\n",
    "    hidden_weight = tf.Variable(tf.random_normal([784,128]),name = 'hidden_weight')\n",
    "    #偏置量\n",
    "    hidden_bias = tf.Variable(tf.zeros([128,]),name = 'hidden_bias')\n",
    "    #隐藏层向前传播(函数)\n",
    "    hidden_output = tf.nn.relu(tf.matmul(inputs,hidden_weight) + hidden_bias)\n",
    "    \n",
    "    #输出层神经元\n",
    "    #权重\n",
    "    output_weight = tf.Variable(tf.random_normal([128,10]),name = 'output_weight')\n",
    "    #偏置量\n",
    "    output_bias = tf.Variable(tf.zeros([10,]),name = 'output_bias')\n",
    "    \n",
    "    #输出层向前传播（函数）\n",
    "    logits = tf.matmul(hidden_output,output_weight) + output_bias\n",
    "    output = tf.nn.softmax(logits)\n",
    "    \n",
    "    #代价函数\n",
    "    loss = tf.reduce_mean(\n",
    "        tf.nn.softmax_cross_entropy_with_logits_v2(\n",
    "            logits=logits, labels=labels,name=None))\n",
    "    \n",
    "    #正确率\n",
    "    acc = tf.reduce_mean(tf.cast(tf.equal(tf.argmax(labels,axis = 1),tf.argmax(output, axis=1)),tf.float32))"
   ]
  },
  {
   "cell_type": "code",
   "execution_count": 10,
   "metadata": {},
   "outputs": [
    {
     "name": "stdout",
     "output_type": "stream",
     "text": [
      "step     0, loss 127.2263, acc 0.0921\n",
      "step   500, loss 6.6182, acc 0.7549\n",
      "step  1000, loss 8.1136, acc 0.8138\n",
      "step  1500, loss 0.9554, acc 0.8356\n",
      "step  2000, loss 4.8263, acc 0.8488\n",
      "step  2500, loss 3.4340, acc 0.8582\n",
      "step  3000, loss 2.7434, acc 0.8598\n",
      "step  3500, loss 1.5327, acc 0.8635\n",
      "step  4000, loss 4.6269, acc 0.8711\n",
      "step  4500, loss 3.4205, acc 0.8728\n",
      "step  5000, loss 0.9433, acc 0.8772\n",
      "step  5500, loss 1.0781, acc 0.8765\n",
      "step  6000, loss 1.6244, acc 0.8807\n",
      "step  6500, loss 1.0365, acc 0.8813\n",
      "step  7000, loss 0.0813, acc 0.8801\n",
      "step  7500, loss 1.4991, acc 0.8856\n",
      "step  8000, loss 0.8410, acc 0.8857\n",
      "step  8500, loss 0.9829, acc 0.8857\n",
      "step  9000, loss 0.3633, acc 0.8889\n",
      "step  9500, loss 0.4384, acc 0.8868\n",
      "step 10000, loss 1.8362, acc 0.8921\n",
      "step 10500, loss 1.3716, acc 0.8915\n",
      "step 11000, loss 1.1343, acc 0.8895\n",
      "step 11500, loss 0.8067, acc 0.8873\n",
      "step 12000, loss 0.6639, acc 0.8949\n",
      "step 12500, loss 0.0025, acc 0.8922\n",
      "step 13000, loss 0.4503, acc 0.8931\n",
      "step 13500, loss 0.4119, acc 0.8932\n",
      "step 14000, loss 0.7724, acc 0.8963\n",
      "step 14500, loss 1.3273, acc 0.8940\n",
      "step 15000, loss 0.0297, acc 0.8945\n",
      "step 15500, loss 0.7693, acc 0.8943\n",
      "step 16000, loss 0.5301, acc 0.8942\n",
      "step 16500, loss 0.3659, acc 0.8949\n",
      "step 17000, loss 0.3201, acc 0.8993\n",
      "step 17500, loss 0.4752, acc 0.8953\n",
      "step 18000, loss 1.0772, acc 0.8981\n",
      "step 18500, loss 0.5679, acc 0.8993\n",
      "step 19000, loss 0.1676, acc 0.8985\n",
      "step 19500, loss 0.5086, acc 0.9016\n"
     ]
    }
   ],
   "source": [
    "with tf.Session(graph=g) as sess:\n",
    "    # 定义梯度下降法优化器\n",
    "    optim = tf.train.GradientDescentOptimizer(learning_rate=0.01)\n",
    "    train_op = optim.minimize(loss)\n",
    "    sess.run(tf.global_variables_initializer())\n",
    "    \n",
    "    # 训练模型\n",
    "    for step in range(20000):\n",
    "        batch_images, batch_labels = mnist.train.next_batch(32)\n",
    "        res_loss, _ = sess.run([loss, train_op], feed_dict={\n",
    "            inputs: batch_images,\n",
    "            labels: batch_labels\n",
    "        })\n",
    "        \n",
    "        # 输出代价并验证模型\n",
    "        if step % 500 == 0:\n",
    "            accs = []\n",
    "            for test_step in range(10000 // 32):\n",
    "                batch_images, batch_labels = mnist.test.next_batch(32)\n",
    "                res_acc = sess.run(acc, feed_dict={\n",
    "                    inputs: batch_images,\n",
    "                    labels: batch_labels\n",
    "                })\n",
    "                accs.append(res_acc)\n",
    "            accs = np.mean(accs)\n",
    "            print('step %5d, loss %2.4f, acc %.4f' % (step, res_loss, accs))"
   ]
  },
  {
   "cell_type": "code",
   "execution_count": null,
   "metadata": {},
   "outputs": [],
   "source": []
  }
 ],
 "metadata": {
  "kernelspec": {
   "display_name": "Python 3",
   "language": "python",
   "name": "python3"
  },
  "language_info": {
   "codemirror_mode": {
    "name": "ipython",
    "version": 3
   },
   "file_extension": ".py",
   "mimetype": "text/x-python",
   "name": "python",
   "nbconvert_exporter": "python",
   "pygments_lexer": "ipython3",
   "version": "3.6.4"
  }
 },
 "nbformat": 4,
 "nbformat_minor": 2
}
