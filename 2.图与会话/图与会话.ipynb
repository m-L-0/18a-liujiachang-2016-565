{
 "cells": [
  {
   "cell_type": "code",
   "execution_count": 4,
   "metadata": {},
   "outputs": [],
   "source": [
    "## 刘佳昌 \n",
    "## 5班\n",
    "## 2016011565"
   ]
  },
  {
   "cell_type": "code",
   "execution_count": 5,
   "metadata": {},
   "outputs": [],
   "source": [
    "import tensorflow as tf"
   ]
  },
  {
   "cell_type": "code",
   "execution_count": 6,
   "metadata": {},
   "outputs": [
    {
     "name": "stdout",
     "output_type": "stream",
     "text": [
      "8\n",
      "8\n"
     ]
    }
   ],
   "source": [
    "#构建图\n",
    "a = tf.add(3,5)\n",
    "#在第一个会话中执行\n",
    "with tf.Session() as sess:\n",
    "    res = sess.run(a)\n",
    "    print(res)\n",
    "#在第二个会话中执行\n",
    "with tf.Session() as sess:\n",
    "    res_1 = sess.run(a)\n",
    "    print(res_1)"
   ]
  },
  {
   "cell_type": "code",
   "execution_count": 24,
   "metadata": {},
   "outputs": [
    {
     "name": "stdout",
     "output_type": "stream",
     "text": [
      "2\n",
      "2\n",
      "6\n",
      "2.0\n",
      "4\n",
      "8\n",
      "16\n",
      "2.0\n"
     ]
    }
   ],
   "source": [
    "#TensorFlow中执行常量基本运算API的基本用法\n",
    "#加法\n",
    "a = tf.add(1,1)\n",
    "#减法\n",
    "b = tf.subtract(5,3)\n",
    "#乘法\n",
    "c = tf.multiply(2,3)\n",
    "#除法 这里的两个参数都是tf.int32 而结果是tf.float64\n",
    "d = tf.divide(tf.constant(8),tf.constant(4))\n",
    "#取余\n",
    "e = tf.mod(9,5)\n",
    "#次方\n",
    "f = tf.pow(2,3)\n",
    "#平方\n",
    "g = tf.square(4)\n",
    "#开方 这里的参数不能为int32，必须为float类型\n",
    "h = tf.sqrt(4.)\n",
    "with tf.Session() as sess:\n",
    "    res_1=sess.run(a)\n",
    "    res_2=sess.run(b)\n",
    "    res_3=sess.run(c)\n",
    "    res_4=sess.run(d)\n",
    "    res_5=sess.run(e)\n",
    "    res_6=sess.run(f)\n",
    "    res_7=sess.run(g)\n",
    "    res_8=sess.run(h)\n",
    "    print(res_1)\n",
    "    print(res_2)\n",
    "    print(res_3)\n",
    "    print(res_4)\n",
    "    print(res_5)\n",
    "    print(res_6)\n",
    "    print(res_7)\n",
    "    print(res_8)"
   ]
  },
  {
   "cell_type": "code",
   "execution_count": null,
   "metadata": {},
   "outputs": [],
   "source": []
  }
 ],
 "metadata": {
  "kernelspec": {
   "display_name": "Python 3",
   "language": "python",
   "name": "python3"
  },
  "language_info": {
   "codemirror_mode": {
    "name": "ipython",
    "version": 3
   },
   "file_extension": ".py",
   "mimetype": "text/x-python",
   "name": "python",
   "nbconvert_exporter": "python",
   "pygments_lexer": "ipython3",
   "version": "3.6.5"
  }
 },
 "nbformat": 4,
 "nbformat_minor": 2
}
