{
 "cells": [
  {
   "cell_type": "code",
   "execution_count": 3,
   "metadata": {},
   "outputs": [],
   "source": [
    "#将上述LMS算法改为使用小批量数据训练。观察并对比收敛速度\n",
    "import itertools\n",
    "import numpy as np\n",
    "from sklearn.datasets import make_regression\n",
    "from sklearn.model_selection import train_test_split\n",
    "from sklearn.decomposition import PCA\n",
    "import matplotlib.pyplot as plt\n",
    "from sklearn.metrics import mean_squared_error as mse"
   ]
  },
  {
   "cell_type": "code",
   "execution_count": 4,
   "metadata": {},
   "outputs": [],
   "source": [
    "#模型\n",
    "def model(X, W, b):\n",
    "    X = np.array(X)\n",
    "    \n",
    "    return np.sum(X * W) + b"
   ]
  },
  {
   "cell_type": "code",
   "execution_count": 5,
   "metadata": {},
   "outputs": [],
   "source": [
    "#生成数据集\n",
    "num_train = 1000\n",
    "num_test = 100\n",
    "# 制作数据集\n",
    "data = make_regression(n_samples=num_train, n_features=2)\n",
    "\n",
    "# 将数据集分割成为训练集与测试集\n",
    "# 并将数据集转成可迭代对象\n",
    "train_x, test_x, train_y, test_y = [itertools.cycle(i) for i in train_test_split(data[0], data[1], test_size=num_test)]"
   ]
  },
  {
   "cell_type": "code",
   "execution_count": 6,
   "metadata": {},
   "outputs": [],
   "source": [
    "def mini(params, lr, batch_size):\n",
    "    for param in params:\n",
    "        param[:] = param - lr * param.grad / batch_size"
   ]
  },
  {
   "cell_type": "code",
   "execution_count": 9,
   "metadata": {},
   "outputs": [
    {
     "data": {
      "text/plain": [
       "Text(0,0.5,'losses')"
      ]
     },
     "execution_count": 9,
     "metadata": {},
     "output_type": "execute_result"
    },
    {
     "data": {
      "image/png": "[encoded data removed]",
      "text/plain": [
       "<matplotlib.figure.Figure at 0x253248aba20>"
      ]
     },
     "metadata": {},
     "output_type": "display_data"
    }
   ],
   "source": [
    "#每32次更新一次小循环\n",
    "#或者使用矩阵\n",
    "train_steps = 2000    # 训练次数\n",
    "lr =0.01                    # 学习率\n",
    "summary_step = 20   # 摘要频率 \n",
    "summary = []            # 摘要\n",
    "tmp_grad_w = 0\n",
    "tmp_grad_b = 0\n",
    "\n",
    "W = np.random.randn(2)  # 初始化连接权重\n",
    "b = 0                             # 初始化偏置值\n",
    "for i in range(train_steps):\n",
    "\n",
    "    # 摘要\n",
    "    if i % summary_step == 0:\n",
    "        tmp = []\n",
    "        for j in range(num_test):\n",
    "            X = next(test_x)\n",
    "            label = next(test_y)\n",
    "            out = model(X, W, b)\n",
    "            tmp.append(np.array([label, out]))\n",
    "            \n",
    "        tmp = np.array(tmp)\n",
    "        # 计算均方误差代价\n",
    "        loss = mse(tmp[:, 0], tmp[:, 1])\n",
    "        summary.append(np.array([i + 1, loss]))\n",
    "    # 获得一个样本，并输入模型得到模型输出结果\n",
    "    X = next(train_x)\n",
    "    label = next(train_y)\n",
    "    out = model(X, W, b)\n",
    "    \n",
    "    # 计算偏导数并更新模型参数\n",
    "    dW = -X * (label - out)\n",
    "    db = -1 * (label - out)\n",
    "    \n",
    "    tmp_grad_w += dW\n",
    "    tmp_grad_b += db\n",
    "    \n",
    "    if i % 32 == 31:\n",
    "        W = W - lr * tmp_grad_w / 32\n",
    "        b = b - lr * tmp_grad_b / 32\n",
    "        \n",
    "        tmp_grad_w = 0\n",
    "        tmp_grad_b = 0\n",
    "\n",
    "# 可视化摘要\n",
    "summary = np.array(summary)    \n",
    "plt.figure(figsize=[8, 3], dpi=100)\n",
    "plt.plot(summary[:, 0], summary[:, 1])\n",
    "plt.xlabel('step')\n",
    "plt.ylabel('losses')"
   ]
  },
  {
   "cell_type": "code",
   "execution_count": null,
   "metadata": {},
   "outputs": [],
   "source": []
  },
  {
   "cell_type": "code",
   "execution_count": null,
   "metadata": {},
   "outputs": [],
   "source": []
  }
 ],
 "metadata": {
  "kernelspec": {
   "display_name": "Python 3",
   "language": "python",
   "name": "python3"
  },
  "language_info": {
   "codemirror_mode": {
    "name": "ipython",
    "version": 3
   },
   "file_extension": ".py",
   "mimetype": "text/x-python",
   "name": "python",
   "nbconvert_exporter": "python",
   "pygments_lexer": "ipython3",
   "version": "3.6.4"
  }
 },
 "nbformat": 4,
 "nbformat_minor": 2
}
